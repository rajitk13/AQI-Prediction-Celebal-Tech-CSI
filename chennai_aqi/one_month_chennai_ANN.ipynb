{
  "cells": [
    {
      "cell_type": "markdown",
      "metadata": {
        "colab_type": "text",
        "id": "view-in-github"
      },
      "source": [
        "<a href=\"https://colab.research.google.com/github/rajitk13/csi-team-3-project/blob/main/one_month_chennai_ANN.ipynb\" target=\"_parent\"><img src=\"https://colab.research.google.com/assets/colab-badge.svg\" alt=\"Open In Colab\"/></a>"
      ]
    },
    {
      "cell_type": "code",
      "execution_count": null,
      "metadata": {
        "id": "es2JOrGlzzC7"
      },
      "outputs": [],
      "source": [
        "import pandas as pd\n",
        "import numpy as np\n",
        "import matplotlib.pyplot as plt\n",
        "import seaborn as sns"
      ]
    },
    {
      "cell_type": "code",
      "execution_count": null,
      "metadata": {
        "colab": {
          "base_uri": "https://localhost:8080/"
        },
        "id": "F5UsW-wT0BEj",
        "outputId": "5cb4971f-6187-453d-b835-4ee144e2f1f1"
      },
      "outputs": [],
      "source": [
        "df=pd.read_csv('/content/drive/MyDrive/celebal internship/air quality index/chennai_aqi/one_month_chennai.csv')\n",
        "df.shape"
      ]
    },
    {
      "cell_type": "code",
      "execution_count": null,
      "metadata": {
        "colab": {
          "base_uri": "https://localhost:8080/",
          "height": 547
        },
        "id": "nYbiuqVs0KY6",
        "outputId": "f48896e1-f87d-4ccb-cd55-8fd4e22bcf2c"
      },
      "outputs": [],
      "source": [
        "sns.heatmap(df.isnull(),yticklabels=False,cbar=False,cmap='viridis')"
      ]
    },
    {
      "cell_type": "code",
      "execution_count": null,
      "metadata": {
        "id": "XQfLivyT910M"
      },
      "outputs": [],
      "source": [
        "df=df.dropna()"
      ]
    },
    {
      "cell_type": "code",
      "execution_count": null,
      "metadata": {
        "colab": {
          "base_uri": "https://localhost:8080/"
        },
        "id": "NYpdvwIh95fc",
        "outputId": "20fa5f55-5aa1-4659-c8e9-a9b3f1d22086"
      },
      "outputs": [],
      "source": [
        "df.info()"
      ]
    },
    {
      "cell_type": "code",
      "execution_count": null,
      "metadata": {
        "colab": {
          "base_uri": "https://localhost:8080/"
        },
        "id": "lpzeex5k964f",
        "outputId": "1a5d1fc1-408a-4e43-91bf-8c56fa3fee16"
      },
      "outputs": [],
      "source": [
        "y=df.iloc[:,0] ## dependent features\n",
        "y"
      ]
    },
    {
      "cell_type": "code",
      "execution_count": null,
      "metadata": {
        "colab": {
          "base_uri": "https://localhost:8080/"
        },
        "id": "dNe8gPQf-zEM",
        "outputId": "8a78c516-be5b-406e-d089-66bc6cdb5794"
      },
      "outputs": [],
      "source": [
        "df.columns"
      ]
    },
    {
      "cell_type": "code",
      "execution_count": null,
      "metadata": {
        "id": "XEInYIO8-S_1"
      },
      "outputs": [],
      "source": [
        "X=df[['co', 'datetime', 'no2', 'o3', 'pm10', 'pm25', 'so2',\n",
        "       'timestamp_local', 'timestamp_utc', 'ts']] ## independent features"
      ]
    },
    {
      "cell_type": "code",
      "execution_count": null,
      "metadata": {
        "colab": {
          "base_uri": "https://localhost:8080/",
          "height": 424
        },
        "id": "cOVSLzoF-5x7",
        "outputId": "96d9f9b2-092a-41b4-d508-43755869531f"
      },
      "outputs": [],
      "source": [
        "X"
      ]
    },
    {
      "cell_type": "code",
      "execution_count": null,
      "metadata": {
        "colab": {
          "base_uri": "https://localhost:8080/",
          "height": 424
        },
        "id": "eqvLnPbK-64Z",
        "outputId": "624a2cdf-5815-463a-916d-b16386f54730"
      },
      "outputs": [],
      "source": [
        "X.isnull()"
      ]
    },
    {
      "cell_type": "code",
      "execution_count": null,
      "metadata": {
        "colab": {
          "base_uri": "https://localhost:8080/",
          "height": 1000
        },
        "id": "LLz1lNOR_EL7",
        "outputId": "95408a33-eea5-41ce-8a80-b697e48a436f"
      },
      "outputs": [],
      "source": [
        "sns.pairplot(df)"
      ]
    },
    {
      "cell_type": "code",
      "execution_count": null,
      "metadata": {
        "colab": {
          "base_uri": "https://localhost:8080/",
          "height": 355
        },
        "id": "pFE3FjPQ_Ia3",
        "outputId": "f3235247-eb64-4c1b-9055-c31c23c05cd7"
      },
      "outputs": [],
      "source": [
        "df.corr()"
      ]
    },
    {
      "cell_type": "code",
      "execution_count": null,
      "metadata": {
        "colab": {
          "base_uri": "https://localhost:8080/",
          "height": 1000
        },
        "id": "vi0v9N5W_TGg",
        "outputId": "499c4c0c-6397-4250-a4af-db0b10db0f53"
      },
      "outputs": [],
      "source": [
        "import seaborn as sns\n",
        "corrmat = df.corr()\n",
        "top_corr_features = corrmat.index\n",
        "plt.figure(figsize=(20,20))\n",
        "g=sns.heatmap(df[top_corr_features].corr(),annot=True,cmap=\"BuPu\")"
      ]
    },
    {
      "cell_type": "code",
      "execution_count": null,
      "metadata": {
        "colab": {
          "base_uri": "https://localhost:8080/"
        },
        "id": "60xFdVyf_a7e",
        "outputId": "c79c16c7-31cb-4c39-d23f-5f1f8f5ba779"
      },
      "outputs": [],
      "source": [
        "corrmat.index"
      ]
    },
    {
      "cell_type": "code",
      "execution_count": null,
      "metadata": {
        "colab": {
          "base_uri": "https://localhost:8080/",
          "height": 206
        },
        "id": "j3p_B9dOACZn",
        "outputId": "96ecf115-c4fc-4b54-b2d3-58d2b02af4d8"
      },
      "outputs": [],
      "source": [
        "X = X.drop(['datetime'],axis=1)\n",
        "X = X.drop(['timestamp_local'],axis=1)\n",
        "X = X.drop(['timestamp_utc'],axis=1)\n",
        "X.head()"
      ]
    },
    {
      "cell_type": "code",
      "execution_count": null,
      "metadata": {
        "colab": {
          "base_uri": "https://localhost:8080/",
          "height": 75
        },
        "id": "Q7dJw1R50cXo",
        "outputId": "8fa78463-ac23-4659-bac0-04065bf11aad"
      },
      "outputs": [],
      "source": [
        "from sklearn.ensemble import ExtraTreesRegressor\n",
        "import matplotlib.pyplot as plt\n",
        "model = ExtraTreesRegressor()\n",
        "model.fit(X,y)"
      ]
    },
    {
      "cell_type": "code",
      "execution_count": null,
      "metadata": {
        "colab": {
          "base_uri": "https://localhost:8080/",
          "height": 465
        },
        "id": "EXot1WGu0lkd",
        "outputId": "4d4fa43f-f581-4695-d4b6-3fc8eeba20f3"
      },
      "outputs": [],
      "source": [
        "print(model.feature_importances_)\n",
        "\n",
        "feat_importances = pd.Series(model.feature_importances_, index=X.columns)\n",
        "feat_importances.nlargest(5).plot(kind='barh')\n",
        "plt.show()"
      ]
    },
    {
      "cell_type": "code",
      "execution_count": null,
      "metadata": {
        "colab": {
          "base_uri": "https://localhost:8080/",
          "height": 657
        },
        "id": "nZG3GoGS0pkN",
        "outputId": "2cc8418a-b122-4f76-a3ca-8f1c84cbe07e"
      },
      "outputs": [],
      "source": [
        "sns.distplot(y)"
      ]
    },
    {
      "cell_type": "code",
      "execution_count": null,
      "metadata": {
        "id": "8BWTWATm0saE"
      },
      "outputs": [],
      "source": [
        "from sklearn.model_selection import train_test_split\n",
        "X_train, X_test, y_train, y_test = train_test_split(X, y, test_size=0.3, random_state=0)\n",
        "\n",
        "\n",
        "import keras\n",
        "from keras.models import Sequential\n",
        "from keras.layers import Dense\n",
        "from keras.layers import LeakyReLU,PReLU,ELU\n",
        "from keras.layers import Dropout"
      ]
    },
    {
      "cell_type": "code",
      "execution_count": null,
      "metadata": {
        "colab": {
          "base_uri": "https://localhost:8080/"
        },
        "id": "iF60KEHI0xOo",
        "outputId": "0fbb915d-d236-412c-b94d-ae7ad843c300"
      },
      "outputs": [],
      "source": [
        "NN_model = Sequential()\n",
        "\n",
        "# The Input Layer :\n",
        "NN_model.add(Dense(128, kernel_initializer='normal',input_dim = X_train.shape[1], activation='relu'))\n",
        "\n",
        "# The Hidden Layers :\n",
        "NN_model.add(Dense(256, kernel_initializer='normal',activation='relu'))\n",
        "NN_model.add(Dense(256, kernel_initializer='normal',activation='relu'))\n",
        "NN_model.add(Dense(256, kernel_initializer='normal',activation='relu'))\n",
        "\n",
        "# The Output Layer :\n",
        "NN_model.add(Dense(1, kernel_initializer='normal',activation='linear'))\n",
        "\n",
        "# Compile the network :\n",
        "NN_model.compile(loss='mean_absolute_error', optimizer='adam', metrics=['mean_absolute_error'])\n",
        "NN_model.summary()\n",
        "\n",
        "# Fitting the ANN to the Training set\n",
        "model_history=NN_model.fit(X_train, y_train,validation_split=0.33, batch_size = 10, epochs = 100)"
      ]
    },
    {
      "cell_type": "code",
      "execution_count": null,
      "metadata": {
        "colab": {
          "base_uri": "https://localhost:8080/",
          "height": 656
        },
        "id": "Ag4PvX440256",
        "outputId": "18f001ae-8ee4-4209-f59e-e4c74ca0c1aa"
      },
      "outputs": [],
      "source": [
        "prediction=NN_model.predict(X_test)\n",
        "y_test\n",
        "\n",
        "sns.distplot(y_test.values.reshape(-1,1)-prediction)"
      ]
    },
    {
      "cell_type": "code",
      "execution_count": null,
      "metadata": {
        "colab": {
          "base_uri": "https://localhost:8080/",
          "height": 447
        },
        "id": "J9RYSeGI1WQ-",
        "outputId": "a71a82e0-ac4c-4b93-cce8-afd897b16213"
      },
      "outputs": [],
      "source": [
        "plt.scatter(y_test,prediction)"
      ]
    },
    {
      "cell_type": "code",
      "execution_count": null,
      "metadata": {
        "colab": {
          "base_uri": "https://localhost:8080/"
        },
        "id": "SCOIa8ul1aJ5",
        "outputId": "67e0f3ca-98aa-45ce-d666-f35147b58bdc"
      },
      "outputs": [],
      "source": [
        "from sklearn import metrics\n",
        "print('MAE:', metrics.mean_absolute_error(y_test, prediction))\n",
        "print('MSE:', metrics.mean_squared_error(y_test, prediction))\n",
        "print('RMSE:', np.sqrt(metrics.mean_squared_error(y_test, prediction)))"
      ]
    },
    {
      "cell_type": "code",
      "execution_count": null,
      "metadata": {
        "id": "UhcvL-kZ1dbS"
      },
      "outputs": [],
      "source": []
    }
  ],
  "metadata": {
    "colab": {
      "authorship_tag": "ABX9TyPJGVSdu2g1IIj/YL3SHxgt",
      "include_colab_link": true,
      "mount_file_id": "15pNeDFauSIs7GBWhbPbRVvxHA8JWKRCN",
      "provenance": []
    },
    "kernelspec": {
      "display_name": "Python 3",
      "name": "python3"
    },
    "language_info": {
      "codemirror_mode": {
        "name": "ipython",
        "version": 3
      },
      "file_extension": ".py",
      "mimetype": "text/x-python",
      "name": "python",
      "nbconvert_exporter": "python",
      "pygments_lexer": "ipython3",
      "version": "3.10.7"
    }
  },
  "nbformat": 4,
  "nbformat_minor": 0
}
